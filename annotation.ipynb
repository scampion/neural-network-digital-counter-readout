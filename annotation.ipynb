{
 "cells": [
  {
   "cell_type": "code",
   "execution_count": 57,
   "id": "a167736b-ac34-4d0f-bc47-2e0bbac40911",
   "metadata": {},
   "outputs": [
    {
     "name": "stdout",
     "output_type": "stream",
     "text": [
      "124\n",
      "5609\n",
      "5609\n"
     ]
    },
    {
     "data": {
      "text/plain": [
       "'5.1_night_dig1_20220907-035442.jpg'"
      ]
     },
     "execution_count": 57,
     "metadata": {},
     "output_type": "execute_result"
    }
   ],
   "source": [
    "import os \n",
    "sorted = set([img[2:] for img in os.listdir(\"sorted\")])\n",
    "print(len(sorted))\n",
    "to_sort = set(os.listdir(\"to_sort\"))\n",
    "ls_images = to_sort - sorted"
   ]
  },
  {
   "cell_type": "code",
   "execution_count": 38,
   "id": "e29a09cd-d203-41ba-bd9f-8bbde5247b0e",
   "metadata": {},
   "outputs": [],
   "source": [
    "labels = open(\"labels.txt\",\"w+\")"
   ]
  },
  {
   "cell_type": "code",
   "execution_count": 42,
   "id": "d914be5c-3cc8-494c-956e-f5a535885da1",
   "metadata": {},
   "outputs": [
    {
     "data": {
      "application/vnd.jupyter.widget-view+json": {
       "model_id": "6c4a5c6aba3b4a1bbe36ad405a1028d7",
       "version_major": 2,
       "version_minor": 0
      },
      "text/plain": [
       "ClassLabeller(children=(Box(children=(Output(layout=Layout(margin='auto', min_height='50px')),), layout=Layout…"
      ]
     },
     "execution_count": 42,
     "metadata": {},
     "output_type": "execute_result"
    }
   ],
   "source": [
    "def store_annotations(entity_annotation):\n",
    "    global current_image\n",
    "    print(entity_annotation)\n",
    "    labels.writelines(current_image + \";\" + str(entity_annotation) + \"\\n\")\n",
    "    labels.flush()\n",
    "    filename = current_image.split('/')[1]\n",
    "    os.rename(current_image, \"sorted/\"+entity_annotation+\"_\"+filename)\n",
    "    current_image = \"to_sort/\"+ls_images.pop(0)\n",
    "    widget.display(current_image)\n",
    "    \n",
    "from ipyannotations import images\n",
    "classes = list(map(str, range(10))) + ['N']\n",
    "widget = images.ClassLabeller(options=classes)\n",
    "widget.on_submit(store_annotations)\n",
    "current_image = \"to_sort/\"+ls_images.pop(0)\n",
    "widget.display(current_image)\n",
    "widget"
   ]
  },
  {
   "cell_type": "code",
   "execution_count": null,
   "id": "6cfc2322-1bf5-4935-b331-5394ceae9e5c",
   "metadata": {},
   "outputs": [],
   "source": []
  }
 ],
 "metadata": {
  "kernelspec": {
   "display_name": "Python 3 (ipykernel)",
   "language": "python",
   "name": "python3"
  },
  "language_info": {
   "codemirror_mode": {
    "name": "ipython",
    "version": 3
   },
   "file_extension": ".py",
   "mimetype": "text/x-python",
   "name": "python",
   "nbconvert_exporter": "python",
   "pygments_lexer": "ipython3",
   "version": "3.9.13"
  }
 },
 "nbformat": 4,
 "nbformat_minor": 5
}
